{
 "cells": [
  {
   "cell_type": "code",
   "execution_count": 17,
   "id": "ad6e5231-4be3-49f1-9dc2-1760baba15df",
   "metadata": {},
   "outputs": [
    {
     "data": {
      "text/plain": [
       "0        2013-04-09\n",
       "1        2014-06-10\n",
       "2        2016-09-26\n",
       "3        2016-01-29\n",
       "4        2014-10-10\n",
       "            ...    \n",
       "56472    2015-05-27\n",
       "56473    2015-03-02\n",
       "56474    2016-08-16\n",
       "56475    2016-09-07\n",
       "56476    2016-09-07\n",
       "Name: SaleDate, Length: 56477, dtype: object"
      ]
     },
     "execution_count": 17,
     "metadata": {},
     "output_type": "execute_result"
    }
   ],
   "source": [
    "df.SaleDate.dt.strftime('%Y-%m-%d')"
   ]
  },
  {
   "cell_type": "code",
   "execution_count": null,
   "id": "4eb9cb6c-5be6-47dc-ad16-4d31614bba48",
   "metadata": {},
   "outputs": [],
   "source": []
  }
 ],
 "metadata": {
  "kernelspec": {
   "display_name": "Python 3",
   "language": "python",
   "name": "python3"
  },
  "language_info": {
   "codemirror_mode": {
    "name": "ipython",
    "version": 3
   },
   "file_extension": ".py",
   "mimetype": "text/x-python",
   "name": "python",
   "nbconvert_exporter": "python",
   "pygments_lexer": "ipython3",
   "version": "3.8.8"
  }
 },
 "nbformat": 4,
 "nbformat_minor": 5
}
